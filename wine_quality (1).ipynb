{
  "nbformat": 4,
  "nbformat_minor": 0,
  "metadata": {
    "colab": {
      "name": "wine_quality.ipynb",
      "provenance": [],
      "collapsed_sections": []
    },
    "kernelspec": {
      "name": "python3",
      "display_name": "Python 3"
    }
  },
  "cells": [
    {
      "cell_type": "markdown",
      "metadata": {
        "id": "YVGiZLs8koS-",
        "colab_type": "text"
      },
      "source": [
        "#   **Prediction of Wine quality using regression and classification**\n",
        "\n"
      ]
    },
    {
      "cell_type": "markdown",
      "metadata": {
        "id": "Xgt0cB-jtIok",
        "colab_type": "text"
      },
      "source": [
        "## Aim and a little about the data: \n",
        "This is a learning project where we conduct multiple methods of regression and classification on the same dataset to learn more about a wide range of  methods and its use cases as well as the various aspects of a data science project including EDA, preprocessing, modelling etc. We will be using the dataset \"Wine Quality\" provided in UCI's Machine Learning repository for our work.  \n",
        "\n",
        "Our final aim is to be able to make prediction on the quality of wine given to us based on the parameters of our data set which will be done as two parts, one as classification where the integers from 0-10 as well as a binary classification of \"excellent wine\" and \"average wine\" are the classes for the quality of wine and the other part being regression where our final answer value can range from 0-10. This provides us the opportunity to get to know more about the various classification methods as well as regression methods.\n",
        "\n",
        "We will be going through each step in high detail so as to cement all the concepts that have been learned both from a coding standpoint as well as a statistical standpoint making this python notebook quite apt for learning purposes. Note that this notebook is being done using \"Google Colab\"'s which is based on Jupyter Notebooks. We will mostly be using Pandas(for dataframe manipulation), numpy(array manipulation), seaborn and matplotlib(for plotting) and scikit-learn( for preprocessing,modelling and prediction).\n"
      ]
    },
    {
      "cell_type": "code",
      "metadata": {
        "id": "ztC_7hFAg_mW",
        "colab_type": "code",
        "colab": {}
      },
      "source": [
        "# Importing necessary libraries\n",
        "import os  \n",
        "import numpy as np\n",
        "import pandas as pd\n",
        "import matplotlib.pyplot as plt\n",
        "from sklearn import preprocessing\n",
        "%matplotlib inline"
      ],
      "execution_count": 0,
      "outputs": []
    },
    {
      "cell_type": "code",
      "metadata": {
        "id": "D3WH3qKMKQU1",
        "colab_type": "code",
        "colab": {}
      },
      "source": [
        "# Uploading our dataset from local source: \n",
        "from google.colab import files\n",
        "files.upload()\n",
        "# This line of code can be changed to get the data from wherever available."
      ],
      "execution_count": 0,
      "outputs": []
    },
    {
      "cell_type": "code",
      "metadata": {
        "id": "7lfk0_9jKQu3",
        "colab_type": "code",
        "outputId": "e6d3fd1c-0412-4125-8396-a3afa5dbd024",
        "colab": {
          "base_uri": "https://localhost:8080/",
          "height": 662
        }
      },
      "source": [
        "# Loading the dataset in python with the name df and displaying first 20 rows: \n",
        "df=pd.read_csv(\"winequalityN.csv\")\n",
        "df.head(20)"
      ],
      "execution_count": 0,
      "outputs": [
        {
          "output_type": "execute_result",
          "data": {
            "text/html": [
              "<div>\n",
              "<style scoped>\n",
              "    .dataframe tbody tr th:only-of-type {\n",
              "        vertical-align: middle;\n",
              "    }\n",
              "\n",
              "    .dataframe tbody tr th {\n",
              "        vertical-align: top;\n",
              "    }\n",
              "\n",
              "    .dataframe thead th {\n",
              "        text-align: right;\n",
              "    }\n",
              "</style>\n",
              "<table border=\"1\" class=\"dataframe\">\n",
              "  <thead>\n",
              "    <tr style=\"text-align: right;\">\n",
              "      <th></th>\n",
              "      <th>type</th>\n",
              "      <th>fixed acidity</th>\n",
              "      <th>volatile acidity</th>\n",
              "      <th>citric acid</th>\n",
              "      <th>residual sugar</th>\n",
              "      <th>chlorides</th>\n",
              "      <th>free sulfur dioxide</th>\n",
              "      <th>total sulfur dioxide</th>\n",
              "      <th>density</th>\n",
              "      <th>pH</th>\n",
              "      <th>sulphates</th>\n",
              "      <th>alcohol</th>\n",
              "      <th>quality</th>\n",
              "    </tr>\n",
              "  </thead>\n",
              "  <tbody>\n",
              "    <tr>\n",
              "      <th>0</th>\n",
              "      <td>white</td>\n",
              "      <td>7.0</td>\n",
              "      <td>0.27</td>\n",
              "      <td>0.36</td>\n",
              "      <td>20.70</td>\n",
              "      <td>0.045</td>\n",
              "      <td>45.0</td>\n",
              "      <td>170.0</td>\n",
              "      <td>1.0010</td>\n",
              "      <td>3.00</td>\n",
              "      <td>0.45</td>\n",
              "      <td>8.8</td>\n",
              "      <td>6</td>\n",
              "    </tr>\n",
              "    <tr>\n",
              "      <th>1</th>\n",
              "      <td>white</td>\n",
              "      <td>6.3</td>\n",
              "      <td>0.30</td>\n",
              "      <td>0.34</td>\n",
              "      <td>1.60</td>\n",
              "      <td>0.049</td>\n",
              "      <td>14.0</td>\n",
              "      <td>132.0</td>\n",
              "      <td>0.9940</td>\n",
              "      <td>3.30</td>\n",
              "      <td>0.49</td>\n",
              "      <td>9.5</td>\n",
              "      <td>6</td>\n",
              "    </tr>\n",
              "    <tr>\n",
              "      <th>2</th>\n",
              "      <td>white</td>\n",
              "      <td>8.1</td>\n",
              "      <td>0.28</td>\n",
              "      <td>0.40</td>\n",
              "      <td>6.90</td>\n",
              "      <td>0.050</td>\n",
              "      <td>30.0</td>\n",
              "      <td>97.0</td>\n",
              "      <td>0.9951</td>\n",
              "      <td>3.26</td>\n",
              "      <td>0.44</td>\n",
              "      <td>10.1</td>\n",
              "      <td>6</td>\n",
              "    </tr>\n",
              "    <tr>\n",
              "      <th>3</th>\n",
              "      <td>white</td>\n",
              "      <td>7.2</td>\n",
              "      <td>0.23</td>\n",
              "      <td>0.32</td>\n",
              "      <td>8.50</td>\n",
              "      <td>0.058</td>\n",
              "      <td>47.0</td>\n",
              "      <td>186.0</td>\n",
              "      <td>0.9956</td>\n",
              "      <td>3.19</td>\n",
              "      <td>0.40</td>\n",
              "      <td>9.9</td>\n",
              "      <td>6</td>\n",
              "    </tr>\n",
              "    <tr>\n",
              "      <th>4</th>\n",
              "      <td>white</td>\n",
              "      <td>7.2</td>\n",
              "      <td>0.23</td>\n",
              "      <td>0.32</td>\n",
              "      <td>8.50</td>\n",
              "      <td>0.058</td>\n",
              "      <td>47.0</td>\n",
              "      <td>186.0</td>\n",
              "      <td>0.9956</td>\n",
              "      <td>3.19</td>\n",
              "      <td>0.40</td>\n",
              "      <td>9.9</td>\n",
              "      <td>6</td>\n",
              "    </tr>\n",
              "    <tr>\n",
              "      <th>5</th>\n",
              "      <td>white</td>\n",
              "      <td>8.1</td>\n",
              "      <td>0.28</td>\n",
              "      <td>0.40</td>\n",
              "      <td>6.90</td>\n",
              "      <td>0.050</td>\n",
              "      <td>30.0</td>\n",
              "      <td>97.0</td>\n",
              "      <td>0.9951</td>\n",
              "      <td>3.26</td>\n",
              "      <td>0.44</td>\n",
              "      <td>10.1</td>\n",
              "      <td>6</td>\n",
              "    </tr>\n",
              "    <tr>\n",
              "      <th>6</th>\n",
              "      <td>white</td>\n",
              "      <td>6.2</td>\n",
              "      <td>0.32</td>\n",
              "      <td>0.16</td>\n",
              "      <td>7.00</td>\n",
              "      <td>0.045</td>\n",
              "      <td>30.0</td>\n",
              "      <td>136.0</td>\n",
              "      <td>0.9949</td>\n",
              "      <td>3.18</td>\n",
              "      <td>0.47</td>\n",
              "      <td>9.6</td>\n",
              "      <td>6</td>\n",
              "    </tr>\n",
              "    <tr>\n",
              "      <th>7</th>\n",
              "      <td>white</td>\n",
              "      <td>7.0</td>\n",
              "      <td>0.27</td>\n",
              "      <td>0.36</td>\n",
              "      <td>20.70</td>\n",
              "      <td>0.045</td>\n",
              "      <td>45.0</td>\n",
              "      <td>170.0</td>\n",
              "      <td>1.0010</td>\n",
              "      <td>3.00</td>\n",
              "      <td>0.45</td>\n",
              "      <td>8.8</td>\n",
              "      <td>6</td>\n",
              "    </tr>\n",
              "    <tr>\n",
              "      <th>8</th>\n",
              "      <td>white</td>\n",
              "      <td>6.3</td>\n",
              "      <td>0.30</td>\n",
              "      <td>0.34</td>\n",
              "      <td>1.60</td>\n",
              "      <td>0.049</td>\n",
              "      <td>14.0</td>\n",
              "      <td>132.0</td>\n",
              "      <td>0.9940</td>\n",
              "      <td>3.30</td>\n",
              "      <td>0.49</td>\n",
              "      <td>9.5</td>\n",
              "      <td>6</td>\n",
              "    </tr>\n",
              "    <tr>\n",
              "      <th>9</th>\n",
              "      <td>white</td>\n",
              "      <td>8.1</td>\n",
              "      <td>0.22</td>\n",
              "      <td>0.43</td>\n",
              "      <td>1.50</td>\n",
              "      <td>0.044</td>\n",
              "      <td>28.0</td>\n",
              "      <td>129.0</td>\n",
              "      <td>0.9938</td>\n",
              "      <td>3.22</td>\n",
              "      <td>0.45</td>\n",
              "      <td>11.0</td>\n",
              "      <td>6</td>\n",
              "    </tr>\n",
              "    <tr>\n",
              "      <th>10</th>\n",
              "      <td>white</td>\n",
              "      <td>8.1</td>\n",
              "      <td>0.27</td>\n",
              "      <td>0.41</td>\n",
              "      <td>1.45</td>\n",
              "      <td>0.033</td>\n",
              "      <td>11.0</td>\n",
              "      <td>63.0</td>\n",
              "      <td>0.9908</td>\n",
              "      <td>2.99</td>\n",
              "      <td>0.56</td>\n",
              "      <td>12.0</td>\n",
              "      <td>5</td>\n",
              "    </tr>\n",
              "    <tr>\n",
              "      <th>11</th>\n",
              "      <td>white</td>\n",
              "      <td>8.6</td>\n",
              "      <td>0.23</td>\n",
              "      <td>0.40</td>\n",
              "      <td>4.20</td>\n",
              "      <td>0.035</td>\n",
              "      <td>17.0</td>\n",
              "      <td>109.0</td>\n",
              "      <td>0.9947</td>\n",
              "      <td>3.14</td>\n",
              "      <td>0.53</td>\n",
              "      <td>9.7</td>\n",
              "      <td>5</td>\n",
              "    </tr>\n",
              "    <tr>\n",
              "      <th>12</th>\n",
              "      <td>white</td>\n",
              "      <td>7.9</td>\n",
              "      <td>0.18</td>\n",
              "      <td>0.37</td>\n",
              "      <td>1.20</td>\n",
              "      <td>0.040</td>\n",
              "      <td>16.0</td>\n",
              "      <td>75.0</td>\n",
              "      <td>0.9920</td>\n",
              "      <td>3.18</td>\n",
              "      <td>0.63</td>\n",
              "      <td>10.8</td>\n",
              "      <td>5</td>\n",
              "    </tr>\n",
              "    <tr>\n",
              "      <th>13</th>\n",
              "      <td>white</td>\n",
              "      <td>6.6</td>\n",
              "      <td>0.16</td>\n",
              "      <td>0.40</td>\n",
              "      <td>1.50</td>\n",
              "      <td>0.044</td>\n",
              "      <td>48.0</td>\n",
              "      <td>143.0</td>\n",
              "      <td>0.9912</td>\n",
              "      <td>3.54</td>\n",
              "      <td>0.52</td>\n",
              "      <td>12.4</td>\n",
              "      <td>7</td>\n",
              "    </tr>\n",
              "    <tr>\n",
              "      <th>14</th>\n",
              "      <td>white</td>\n",
              "      <td>8.3</td>\n",
              "      <td>0.42</td>\n",
              "      <td>0.62</td>\n",
              "      <td>19.25</td>\n",
              "      <td>0.040</td>\n",
              "      <td>41.0</td>\n",
              "      <td>172.0</td>\n",
              "      <td>1.0002</td>\n",
              "      <td>2.98</td>\n",
              "      <td>0.67</td>\n",
              "      <td>9.7</td>\n",
              "      <td>5</td>\n",
              "    </tr>\n",
              "    <tr>\n",
              "      <th>15</th>\n",
              "      <td>white</td>\n",
              "      <td>6.6</td>\n",
              "      <td>0.17</td>\n",
              "      <td>0.38</td>\n",
              "      <td>1.50</td>\n",
              "      <td>0.032</td>\n",
              "      <td>28.0</td>\n",
              "      <td>112.0</td>\n",
              "      <td>0.9914</td>\n",
              "      <td>3.25</td>\n",
              "      <td>0.55</td>\n",
              "      <td>11.4</td>\n",
              "      <td>7</td>\n",
              "    </tr>\n",
              "    <tr>\n",
              "      <th>16</th>\n",
              "      <td>white</td>\n",
              "      <td>6.3</td>\n",
              "      <td>0.48</td>\n",
              "      <td>0.04</td>\n",
              "      <td>1.10</td>\n",
              "      <td>0.046</td>\n",
              "      <td>30.0</td>\n",
              "      <td>99.0</td>\n",
              "      <td>0.9928</td>\n",
              "      <td>3.24</td>\n",
              "      <td>0.36</td>\n",
              "      <td>9.6</td>\n",
              "      <td>6</td>\n",
              "    </tr>\n",
              "    <tr>\n",
              "      <th>17</th>\n",
              "      <td>white</td>\n",
              "      <td>NaN</td>\n",
              "      <td>0.66</td>\n",
              "      <td>0.48</td>\n",
              "      <td>1.20</td>\n",
              "      <td>0.029</td>\n",
              "      <td>29.0</td>\n",
              "      <td>75.0</td>\n",
              "      <td>0.9892</td>\n",
              "      <td>3.33</td>\n",
              "      <td>0.39</td>\n",
              "      <td>12.8</td>\n",
              "      <td>8</td>\n",
              "    </tr>\n",
              "    <tr>\n",
              "      <th>18</th>\n",
              "      <td>white</td>\n",
              "      <td>7.4</td>\n",
              "      <td>0.34</td>\n",
              "      <td>0.42</td>\n",
              "      <td>1.10</td>\n",
              "      <td>0.033</td>\n",
              "      <td>17.0</td>\n",
              "      <td>171.0</td>\n",
              "      <td>0.9917</td>\n",
              "      <td>3.12</td>\n",
              "      <td>0.53</td>\n",
              "      <td>11.3</td>\n",
              "      <td>6</td>\n",
              "    </tr>\n",
              "    <tr>\n",
              "      <th>19</th>\n",
              "      <td>white</td>\n",
              "      <td>6.5</td>\n",
              "      <td>0.31</td>\n",
              "      <td>0.14</td>\n",
              "      <td>7.50</td>\n",
              "      <td>0.044</td>\n",
              "      <td>34.0</td>\n",
              "      <td>133.0</td>\n",
              "      <td>0.9955</td>\n",
              "      <td>3.22</td>\n",
              "      <td>0.50</td>\n",
              "      <td>9.5</td>\n",
              "      <td>5</td>\n",
              "    </tr>\n",
              "  </tbody>\n",
              "</table>\n",
              "</div>"
            ],
            "text/plain": [
              "     type  fixed acidity  volatile acidity  ...  sulphates  alcohol  quality\n",
              "0   white            7.0              0.27  ...       0.45      8.8        6\n",
              "1   white            6.3              0.30  ...       0.49      9.5        6\n",
              "2   white            8.1              0.28  ...       0.44     10.1        6\n",
              "3   white            7.2              0.23  ...       0.40      9.9        6\n",
              "4   white            7.2              0.23  ...       0.40      9.9        6\n",
              "5   white            8.1              0.28  ...       0.44     10.1        6\n",
              "6   white            6.2              0.32  ...       0.47      9.6        6\n",
              "7   white            7.0              0.27  ...       0.45      8.8        6\n",
              "8   white            6.3              0.30  ...       0.49      9.5        6\n",
              "9   white            8.1              0.22  ...       0.45     11.0        6\n",
              "10  white            8.1              0.27  ...       0.56     12.0        5\n",
              "11  white            8.6              0.23  ...       0.53      9.7        5\n",
              "12  white            7.9              0.18  ...       0.63     10.8        5\n",
              "13  white            6.6              0.16  ...       0.52     12.4        7\n",
              "14  white            8.3              0.42  ...       0.67      9.7        5\n",
              "15  white            6.6              0.17  ...       0.55     11.4        7\n",
              "16  white            6.3              0.48  ...       0.36      9.6        6\n",
              "17  white            NaN              0.66  ...       0.39     12.8        8\n",
              "18  white            7.4              0.34  ...       0.53     11.3        6\n",
              "19  white            6.5              0.31  ...       0.50      9.5        5\n",
              "\n",
              "[20 rows x 13 columns]"
            ]
          },
          "metadata": {
            "tags": []
          },
          "execution_count": 56
        }
      ]
    },
    {
      "cell_type": "markdown",
      "metadata": {
        "id": "X2IP6SSXAdwi",
        "colab_type": "text"
      },
      "source": [
        "# Data cleaning/wrangling: \n",
        "\n",
        "Here we take the make the dataset usable for our work. This involves taking care of missing values, making sure all the object types are correct etc."
      ]
    },
    {
      "cell_type": "code",
      "metadata": {
        "id": "f919aTq6g-TT",
        "colab_type": "code",
        "outputId": "d00291ff-5b37-4ed0-e6e8-f99544f450bf",
        "colab": {
          "base_uri": "https://localhost:8080/",
          "height": 363
        }
      },
      "source": [
        "#Getting an overall picture of the data types and shape of our dataset :\n",
        "df.info()"
      ],
      "execution_count": 0,
      "outputs": [
        {
          "output_type": "stream",
          "text": [
            "<class 'pandas.core.frame.DataFrame'>\n",
            "RangeIndex: 6497 entries, 0 to 6496\n",
            "Data columns (total 13 columns):\n",
            " #   Column                Non-Null Count  Dtype  \n",
            "---  ------                --------------  -----  \n",
            " 0   type                  6497 non-null   object \n",
            " 1   fixed acidity         6487 non-null   float64\n",
            " 2   volatile acidity      6489 non-null   float64\n",
            " 3   citric acid           6494 non-null   float64\n",
            " 4   residual sugar        6495 non-null   float64\n",
            " 5   chlorides             6495 non-null   float64\n",
            " 6   free sulfur dioxide   6497 non-null   float64\n",
            " 7   total sulfur dioxide  6497 non-null   float64\n",
            " 8   density               6497 non-null   float64\n",
            " 9   pH                    6488 non-null   float64\n",
            " 10  sulphates             6493 non-null   float64\n",
            " 11  alcohol               6497 non-null   float64\n",
            " 12  quality               6497 non-null   int64  \n",
            "dtypes: float64(11), int64(1), object(1)\n",
            "memory usage: 660.0+ KB\n"
          ],
          "name": "stdout"
        }
      ]
    },
    {
      "cell_type": "code",
      "metadata": {
        "id": "l8nzbcOjiRFN",
        "colab_type": "code",
        "outputId": "d75c0741-eda1-4b52-d7cd-ecc6cf585503",
        "colab": {
          "base_uri": "https://localhost:8080/",
          "height": 259
        }
      },
      "source": [
        "# Taking sum of all missing values in each column:\n",
        "df.isna().sum()"
      ],
      "execution_count": 0,
      "outputs": [
        {
          "output_type": "execute_result",
          "data": {
            "text/plain": [
              "type                     0\n",
              "fixed acidity           10\n",
              "volatile acidity         8\n",
              "citric acid              3\n",
              "residual sugar           2\n",
              "chlorides                2\n",
              "free sulfur dioxide      0\n",
              "total sulfur dioxide     0\n",
              "density                  0\n",
              "pH                       9\n",
              "sulphates                4\n",
              "alcohol                  0\n",
              "quality                  0\n",
              "dtype: int64"
            ]
          },
          "metadata": {
            "tags": []
          },
          "execution_count": 33
        }
      ]
    },
    {
      "cell_type": "markdown",
      "metadata": {
        "id": "eYAeI-eIA8jE",
        "colab_type": "text"
      },
      "source": [
        "Above, we can see that there are 13 columns and 6497 observations/rows. We also note that there are quite a few missing values. All the data types are correctly put however, we can change quality into a float object for regression."
      ]
    },
    {
      "cell_type": "markdown",
      "metadata": {
        "id": "T773m8FuBW2V",
        "colab_type": "text"
      },
      "source": [
        "### Handling missing variables: \n",
        "There are multiple ways of handling missing variables from removing all the columns to complex prediction methods for the missing variables. However, we will simply assume them to be the mean of the entire column. This allows us to retain the rest of the information of the observation with the missing data while making a reasonable assumption for the missing value."
      ]
    },
    {
      "cell_type": "code",
      "metadata": {
        "id": "p0ufa8ytpEml",
        "colab_type": "code",
        "colab": {}
      },
      "source": [
        "df=df.fillna(df.mean())"
      ],
      "execution_count": 0,
      "outputs": []
    },
    {
      "cell_type": "markdown",
      "metadata": {
        "id": "cVSb5M4saKRQ",
        "colab_type": "text"
      },
      "source": [
        "We will change the object type whenever depending on the model we are going to use and we will do it in our modelling section. Hence we have completed our cleaning section of our project. Next we will do a exploratory data analysis to see which variables are useful and each of their relationships etc. We will be using matplotlib as well as seaborn to conduct our EDA."
      ]
    },
    {
      "cell_type": "markdown",
      "metadata": {
        "id": "mOa-G7dwanxs",
        "colab_type": "text"
      },
      "source": [
        "# **Exploratory Data Analysis**"
      ]
    },
    {
      "cell_type": "markdown",
      "metadata": {
        "id": "SpcJrVSca6dQ",
        "colab_type": "text"
      },
      "source": [
        "There are only 12 variables hence conducting an EDA is not that hard and we will be able to look at most variables in depth. First, we will take a  look at the summary statistics of the dataset."
      ]
    },
    {
      "cell_type": "code",
      "metadata": {
        "id": "iaUPM1DrYMyU",
        "colab_type": "code",
        "outputId": "e7b6ccdf-a9c2-4437-baa9-66df913b0261",
        "colab": {
          "base_uri": "https://localhost:8080/",
          "height": 294
        }
      },
      "source": [
        "df.describe()"
      ],
      "execution_count": 0,
      "outputs": [
        {
          "output_type": "execute_result",
          "data": {
            "text/html": [
              "<div>\n",
              "<style scoped>\n",
              "    .dataframe tbody tr th:only-of-type {\n",
              "        vertical-align: middle;\n",
              "    }\n",
              "\n",
              "    .dataframe tbody tr th {\n",
              "        vertical-align: top;\n",
              "    }\n",
              "\n",
              "    .dataframe thead th {\n",
              "        text-align: right;\n",
              "    }\n",
              "</style>\n",
              "<table border=\"1\" class=\"dataframe\">\n",
              "  <thead>\n",
              "    <tr style=\"text-align: right;\">\n",
              "      <th></th>\n",
              "      <th>fixed acidity</th>\n",
              "      <th>volatile acidity</th>\n",
              "      <th>citric acid</th>\n",
              "      <th>residual sugar</th>\n",
              "      <th>chlorides</th>\n",
              "      <th>free sulfur dioxide</th>\n",
              "      <th>total sulfur dioxide</th>\n",
              "      <th>density</th>\n",
              "      <th>pH</th>\n",
              "      <th>sulphates</th>\n",
              "      <th>alcohol</th>\n",
              "      <th>quality</th>\n",
              "    </tr>\n",
              "  </thead>\n",
              "  <tbody>\n",
              "    <tr>\n",
              "      <th>count</th>\n",
              "      <td>6497.000000</td>\n",
              "      <td>6497.000000</td>\n",
              "      <td>6497.000000</td>\n",
              "      <td>6497.000000</td>\n",
              "      <td>6497.000000</td>\n",
              "      <td>6497.000000</td>\n",
              "      <td>6497.000000</td>\n",
              "      <td>6497.000000</td>\n",
              "      <td>6497.000000</td>\n",
              "      <td>6497.000000</td>\n",
              "      <td>6497.000000</td>\n",
              "      <td>6497.000000</td>\n",
              "    </tr>\n",
              "    <tr>\n",
              "      <th>mean</th>\n",
              "      <td>7.216579</td>\n",
              "      <td>0.339691</td>\n",
              "      <td>0.318722</td>\n",
              "      <td>5.444326</td>\n",
              "      <td>0.056042</td>\n",
              "      <td>30.525319</td>\n",
              "      <td>115.744574</td>\n",
              "      <td>0.994697</td>\n",
              "      <td>3.218395</td>\n",
              "      <td>0.531215</td>\n",
              "      <td>10.491801</td>\n",
              "      <td>5.818378</td>\n",
              "    </tr>\n",
              "    <tr>\n",
              "      <th>std</th>\n",
              "      <td>1.295751</td>\n",
              "      <td>0.164548</td>\n",
              "      <td>0.145231</td>\n",
              "      <td>4.757392</td>\n",
              "      <td>0.035031</td>\n",
              "      <td>17.749400</td>\n",
              "      <td>56.521855</td>\n",
              "      <td>0.002999</td>\n",
              "      <td>0.160637</td>\n",
              "      <td>0.148768</td>\n",
              "      <td>1.192712</td>\n",
              "      <td>0.873255</td>\n",
              "    </tr>\n",
              "    <tr>\n",
              "      <th>min</th>\n",
              "      <td>3.800000</td>\n",
              "      <td>0.080000</td>\n",
              "      <td>0.000000</td>\n",
              "      <td>0.600000</td>\n",
              "      <td>0.009000</td>\n",
              "      <td>1.000000</td>\n",
              "      <td>6.000000</td>\n",
              "      <td>0.987110</td>\n",
              "      <td>2.720000</td>\n",
              "      <td>0.220000</td>\n",
              "      <td>8.000000</td>\n",
              "      <td>3.000000</td>\n",
              "    </tr>\n",
              "    <tr>\n",
              "      <th>25%</th>\n",
              "      <td>6.400000</td>\n",
              "      <td>0.230000</td>\n",
              "      <td>0.250000</td>\n",
              "      <td>1.800000</td>\n",
              "      <td>0.038000</td>\n",
              "      <td>17.000000</td>\n",
              "      <td>77.000000</td>\n",
              "      <td>0.992340</td>\n",
              "      <td>3.110000</td>\n",
              "      <td>0.430000</td>\n",
              "      <td>9.500000</td>\n",
              "      <td>5.000000</td>\n",
              "    </tr>\n",
              "    <tr>\n",
              "      <th>50%</th>\n",
              "      <td>7.000000</td>\n",
              "      <td>0.290000</td>\n",
              "      <td>0.310000</td>\n",
              "      <td>3.000000</td>\n",
              "      <td>0.047000</td>\n",
              "      <td>29.000000</td>\n",
              "      <td>118.000000</td>\n",
              "      <td>0.994890</td>\n",
              "      <td>3.210000</td>\n",
              "      <td>0.510000</td>\n",
              "      <td>10.300000</td>\n",
              "      <td>6.000000</td>\n",
              "    </tr>\n",
              "    <tr>\n",
              "      <th>75%</th>\n",
              "      <td>7.700000</td>\n",
              "      <td>0.400000</td>\n",
              "      <td>0.390000</td>\n",
              "      <td>8.100000</td>\n",
              "      <td>0.065000</td>\n",
              "      <td>41.000000</td>\n",
              "      <td>156.000000</td>\n",
              "      <td>0.996990</td>\n",
              "      <td>3.320000</td>\n",
              "      <td>0.600000</td>\n",
              "      <td>11.300000</td>\n",
              "      <td>6.000000</td>\n",
              "    </tr>\n",
              "    <tr>\n",
              "      <th>max</th>\n",
              "      <td>15.900000</td>\n",
              "      <td>1.580000</td>\n",
              "      <td>1.660000</td>\n",
              "      <td>65.800000</td>\n",
              "      <td>0.611000</td>\n",
              "      <td>289.000000</td>\n",
              "      <td>440.000000</td>\n",
              "      <td>1.038980</td>\n",
              "      <td>4.010000</td>\n",
              "      <td>2.000000</td>\n",
              "      <td>14.900000</td>\n",
              "      <td>9.000000</td>\n",
              "    </tr>\n",
              "  </tbody>\n",
              "</table>\n",
              "</div>"
            ],
            "text/plain": [
              "       fixed acidity  volatile acidity  ...      alcohol      quality\n",
              "count    6497.000000       6497.000000  ...  6497.000000  6497.000000\n",
              "mean        7.216579          0.339691  ...    10.491801     5.818378\n",
              "std         1.295751          0.164548  ...     1.192712     0.873255\n",
              "min         3.800000          0.080000  ...     8.000000     3.000000\n",
              "25%         6.400000          0.230000  ...     9.500000     5.000000\n",
              "50%         7.000000          0.290000  ...    10.300000     6.000000\n",
              "75%         7.700000          0.400000  ...    11.300000     6.000000\n",
              "max        15.900000          1.580000  ...    14.900000     9.000000\n",
              "\n",
              "[8 rows x 12 columns]"
            ]
          },
          "metadata": {
            "tags": []
          },
          "execution_count": 35
        }
      ]
    },
    {
      "cell_type": "markdown",
      "metadata": {
        "id": "a8exBCsJbdQ2",
        "colab_type": "text"
      },
      "source": [
        "One thing that we can take note of is that the different variables are on different scales, and hence we might be better of rescaling all of the data which we will explore in the next section of preprocessing.\n",
        "\n",
        "Next we will take a look at the correlation between all the variables by looking at the scatter plots between them."
      ]
    },
    {
      "cell_type": "code",
      "metadata": {
        "id": "Jy7jC7y2ZfeU",
        "colab_type": "code",
        "outputId": "0118c350-3710-491b-d653-459b2f7681fe",
        "colab": {
          "base_uri": "https://localhost:8080/",
          "height": 583
        }
      },
      "source": [
        "import seaborn as sns\n",
        "sns.set(rc={'figure.figsize':(10,8)})\n",
        "corr = df.corr()\n",
        "sns.heatmap(corr, \n",
        "            xticklabels=corr.columns.values,\n",
        "            yticklabels=corr.columns.values)\n",
        "plt.show()"
      ],
      "execution_count": 0,
      "outputs": [
        {
          "output_type": "display_data",
          "data": {
            "image/png": "[encoded data removed]",
            "text/plain": [
              "<Figure size 720x576 with 2 Axes>"
            ]
          },
          "metadata": {
            "tags": []
          }
        }
      ]
    },
    {
      "cell_type": "markdown",
      "metadata": {
        "id": "sipWGCAorcXj",
        "colab_type": "text"
      },
      "source": [
        "One point we can note is the fact that there  is a good amount of multicollinearity, which could be potentially taken care of by using methods such as Ridge Regression or lasso regression.\n",
        "\n",
        "Next we will take a look at whether the color of the wine has a role in its quality. For that we will use boxplots."
      ]
    },
    {
      "cell_type": "code",
      "metadata": {
        "id": "bOOEVSa4J-Yc",
        "colab_type": "code",
        "outputId": "73407682-c32a-4b61-aba9-2f31e7ffb128",
        "colab": {
          "base_uri": "https://localhost:8080/",
          "height": 502
        }
      },
      "source": [
        "sns.boxplot(x=\"type\",y=\"quality\",data=df, palette=\"dark\")\n",
        "plt.show()"
      ],
      "execution_count": 0,
      "outputs": [
        {
          "output_type": "display_data",
          "data": {
            "image/png": "[encoded data removed]",
            "text/plain": [
              "<Figure size 720x576 with 1 Axes>"
            ]
          },
          "metadata": {
            "tags": []
          }
        }
      ]
    },
    {
      "cell_type": "markdown",
      "metadata": {
        "id": "9R8GLqUrK9jt",
        "colab_type": "text"
      },
      "source": [
        "Here, we can see that there is no significant difference between the ratings of white and red wine and hence in the next section we can remove this column as it provides no additional information for predicting the quality of wine.\n",
        "\n",
        "And finally we will take a look at the plots of the response variables and the various explanotory variables in our next part.\n"
      ]
    },
    {
      "cell_type": "code",
      "metadata": {
        "id": "rh8-jX26Z-Ea",
        "colab_type": "code",
        "outputId": "f968e7eb-16fe-476e-ab5d-43a134e4a9d3",
        "colab": {
          "base_uri": "https://localhost:8080/",
          "height": 397
        }
      },
      "source": [
        "g = sns.PairGrid(df, y_vars=[\"quality\"], x_vars=list(df)[1:-6],palette=\"GnBu_d\",hue=\"type\")\n",
        "g.map(sns.regplot)\n",
        "g.set(ylim=(-1, 11), yticks=[0, 5, 10]);\n",
        "g.add_legend()\n",
        "plt.show()\n",
        "\n",
        "a = sns.PairGrid(df, y_vars=[\"quality\"], x_vars=list(df)[-6:-1],palette=\"GnBu_d\",hue=\"type\")\n",
        "a.map(sns.regplot)\n",
        "a.set(ylim=(-1, 11), yticks=[0, 5, 10]);\n",
        "a.add_legend()\n",
        "plt.show()"
      ],
      "execution_count": 0,
      "outputs": [
        {
          "output_type": "display_data",
          "data": {
            "image/png": "[encoded data removed]",
            "text/plain": [
              "<Figure size 1149.98x180 with 6 Axes>"
            ]
          },
          "metadata": {
            "tags": []
          }
        },
        {
          "output_type": "display_data",
          "data": {
            "image/png": "[encoded data removed]",
            "text/plain": [
              "<Figure size 969.975x180 with 5 Axes>"
            ]
          },
          "metadata": {
            "tags": []
          }
        }
      ]
    },
    {
      "cell_type": "markdown",
      "metadata": {
        "id": "YGyVhrXjdG-m",
        "colab_type": "text"
      },
      "source": [
        "One major point to note from the graph above is the categorical/ordinal nature of the response variable. This could mean that regression might not be the most optimal method for predicting values. Hence we will be comparing both, classification as well as regression models for our problems.Also note that even though the type of wine doesnt seem to have any notable impact on our response variable, it does seem to have a impact on the various independant variables. \n",
        "\n",
        "\n",
        "With this we conclude with our EDA section and move to our next portion that is data preprocessing using sk-learn."
      ]
    },
    {
      "cell_type": "markdown",
      "metadata": {
        "id": "NgsDZbueJRuR",
        "colab_type": "text"
      },
      "source": [
        "# Data preprocessing \n",
        "\n",
        "Here we will prepare for our data for the modelling. First, we will remove the 'type' column as has shown to have no influence on our quality value."
      ]
    },
    {
      "cell_type": "code",
      "metadata": {
        "id": "FqlZNSBfcpkT",
        "colab_type": "code",
        "colab": {}
      },
      "source": [
        "df=df[df.columns.drop('type')]"
      ],
      "execution_count": 0,
      "outputs": []
    },
    {
      "cell_type": "markdown",
      "metadata": {
        "id": "Ls_5zOPaNcV2",
        "colab_type": "text"
      },
      "source": [
        "One thing we could do is eliminate some more columns which are highly correlated with each other, however, since we will be using lasso as well as ridge regression we will not make any further adjustments.\n",
        "\n",
        "Next,we will normalize the independant variables. so as to reduce bias towards any particular variables. This is quite useful as the range of the variables are highly varied between the variables and name our independant variables x and target variable y. We will scale the values of all our independant variables to a range of 0-1. We will leave our target variable as is for convenience."
      ]
    },
    {
      "cell_type": "code",
      "metadata": {
        "id": "ahh-bNz3ksBs",
        "colab_type": "code",
        "colab": {}
      },
      "source": [
        "x=df[df.columns.drop(\"quality\")]\n",
        "normalized_x=preprocessing.minmax_scale(x)\n",
        "y=df[\"quality\"]"
      ],
      "execution_count": 0,
      "outputs": []
    },
    {
      "cell_type": "markdown",
      "metadata": {
        "id": "JUxuvPpQVxfW",
        "colab_type": "text"
      },
      "source": [
        "And we have prepared our data as required, now, finally all we need to do is split the dataset into a training and testing dataset."
      ]
    },
    {
      "cell_type": "code",
      "metadata": {
        "id": "EHL--j3py_Mt",
        "colab_type": "code",
        "colab": {}
      },
      "source": [
        "from sklearn.model_selection import train_test_split\n",
        "X_train, X_test, y_train, y_test = train_test_split(normalized_x, y, test_size=0.33, random_state=42)"
      ],
      "execution_count": 0,
      "outputs": []
    },
    {
      "cell_type": "markdown",
      "metadata": {
        "id": "R_Icn3UXesFr",
        "colab_type": "text"
      },
      "source": [
        "We have now divided the data into a test set as well as a training set and hence we have come to an end of this section. \n",
        "Next we will move on to modelling the problem and testing.\n",
        "\n",
        "# Modelling and testing: \n",
        "We will model using both classification and regression with multiple methods in each to give an overall idea.\n",
        "\n",
        "## Modelling and testing for regression:\n",
        "First we will start with linear regression and will be using Lasso, Ridge as well as ordinary linear regression for our data and compare the results and get an inference. We will be using the scikit Learn library for our regression as well as testing.\n",
        "\n",
        "### Multiple linear regression with OLS(ordinary least squares): \n",
        "Firstly we will do basic linear regression without any penalty on complexity.\n",
        "\n",
        "\n"
      ]
    },
    {
      "cell_type": "code",
      "metadata": {
        "id": "LRLQvCYYfwbq",
        "colab_type": "code",
        "outputId": "5e69a288-6e5a-4e76-aa79-00a34e078bbe",
        "colab": {
          "base_uri": "https://localhost:8080/",
          "height": 34
        }
      },
      "source": [
        "from sklearn.linear_model import LinearRegression\n",
        "clf= LinearRegression().fit(X_train,y_train)\n",
        "clf.score(X_train,y_train)"
      ],
      "execution_count": 0,
      "outputs": [
        {
          "output_type": "execute_result",
          "data": {
            "text/plain": [
              "0.2852550071222292"
            ]
          },
          "metadata": {
            "tags": []
          },
          "execution_count": 42
        }
      ]
    },
    {
      "cell_type": "markdown",
      "metadata": {
        "id": "7fg2Hds2f-0k",
        "colab_type": "text"
      },
      "source": [
        "The score above gives us the R^2 value for our dataset which simply means the amount of variability that is explained by our model. Note that higher could mean better, but often times this could be an indication of over fitting. We will take a look at the root mean square error of our model on the test set to have a better idea of the predicting power of the model."
      ]
    },
    {
      "cell_type": "code",
      "metadata": {
        "id": "ljeusSeZgdNs",
        "colab_type": "code",
        "outputId": "068da8d4-425b-4c40-fdb7-e1c8bdb1d0d6",
        "colab": {
          "base_uri": "https://localhost:8080/",
          "height": 51
        }
      },
      "source": [
        "from sklearn.metrics import mean_squared_error\n",
        "a=clf.predict(X_train)\n",
        "train_rmse= (mean_squared_error(a,y_train)) ** 0.5\n",
        "print(train_rmse)\n",
        "b=clf.predict(X_test)\n",
        "test_rmse= (mean_squared_error(b,y_test)) ** 0.5\n",
        "test_rmse"
      ],
      "execution_count": 0,
      "outputs": [
        {
          "output_type": "stream",
          "text": [
            "0.7449819789418428\n"
          ],
          "name": "stdout"
        },
        {
          "output_type": "execute_result",
          "data": {
            "text/plain": [
              "0.7141299082752784"
            ]
          },
          "metadata": {
            "tags": []
          },
          "execution_count": 43
        }
      ]
    },
    {
      "cell_type": "markdown",
      "metadata": {
        "id": "bLyZulwwzoIR",
        "colab_type": "text"
      },
      "source": [
        "We got a RMSE value of 0.7141, which tells about how accurate our values are. Again, the RMSE value is not an absolute value of and needs comparision to truly know how well our model performs, however, considering that our models output ranges from 0-10, an approx. average error of 0.74 is a respectable value.\n",
        "\n",
        "One important thing to note is that the RMSE of the test set is smaller than that of the training set which is a good sign as it indicates that overfitting is unlikely which means that lasso regression as well as ridge regression will not necessarily give us any better answers.\n",
        "\n",
        "Another small observation I had made was that normalizing the data did not give any substantial Reduction in RMSE."
      ]
    },
    {
      "cell_type": "markdown",
      "metadata": {
        "id": "JfRJhrH31vZp",
        "colab_type": "text"
      },
      "source": [
        "Next we will take a quick look at ridge regression and lasso regression and compare results from the three. Again, since there wasn't any signs of overfitting there is a good chance that ridge and lasso regressions will not give any better results and possibly even worse. \n",
        "\n",
        "### Multiple linear regression with Ridge regression:\n",
        "Ridge regression based on L2 regularisation is a regression method that places a penalty on complexity of our model. What it essentially does is in addition to regular cost function of OLS, Ridge regression places a penalty on the size of the coefficients. This reduces the complexity by inducing a bias resulting in a lower variance. Note that we use RidgeCV(cross validation) for finding an optimal alpha which is the one hyperparameter of our model."
      ]
    },
    {
      "cell_type": "code",
      "metadata": {
        "id": "YmisxlCbeTyo",
        "colab_type": "code",
        "outputId": "46c26f94-c81f-4730-c0e2-4a3f6cdb9600",
        "colab": {
          "base_uri": "https://localhost:8080/",
          "height": 69
        }
      },
      "source": [
        "from sklearn.linear_model import RidgeCV\n",
        "alpha= np.arange(0.01,10,0.1).tolist()\n",
        "clf = RidgeCV(alphas=alpha).fit(X_train, y_train)\n",
        "score=clf.score(X_train, y_train)\n",
        "print(\"R^2 =\", score)\n",
        "a=clf.predict(X_train)\n",
        "train_rmse= (mean_squared_error(a,y_train)) ** 0.5\n",
        "print(\"train_rmse = \", train_rmse)\n",
        "b=clf.predict(X_test)\n",
        "test_rmse= (mean_squared_error(b,y_test)) ** 0.5\n",
        "print(\"test_rmse = \", test_rmse)\n"
      ],
      "execution_count": 0,
      "outputs": [
        {
          "output_type": "stream",
          "text": [
            "R^2 = 0.2851950069950777\n",
            "train_rmse =  0.745013247489275\n",
            "test_rmse =  0.7140757549369448\n"
          ],
          "name": "stdout"
        }
      ]
    },
    {
      "cell_type": "markdown",
      "metadata": {
        "id": "jUAwMyOM4TZ7",
        "colab_type": "text"
      },
      "source": [
        "We can see that the values are exactly the same as Ridge regression converges towards a penalty of 0 for complexity and mimics regular linear regression.\n",
        "Next we can take a look at lasso regression in the same manner.\n",
        "\n",
        "### Multiple linear regression with Lasso regression: \n",
        "\n",
        "Lasso regression based on L1 regularisation is a regression method that places a penalty on the complexity not just by reducing the coefficient size but by reducing it to zero and hence effectively acting as a variables selector. This method is especially helpful if there are a large number of independant variables and we need to filter out some. However, again, since the model complexity is not high the prediction is not going to be any better than linear regression. Similar to Ridge regression, alpha is the hyperparameter."
      ]
    },
    {
      "cell_type": "code",
      "metadata": {
        "id": "iuOuVqmLeXKN",
        "colab_type": "code",
        "outputId": "353212bf-0619-42c9-ac5a-e95c13a18280",
        "colab": {
          "base_uri": "https://localhost:8080/",
          "height": 69
        }
      },
      "source": [
        "from sklearn.linear_model import LassoCV\n",
        "alpha= np.arange(0.01,10,0.1).tolist()\n",
        "clf = LassoCV(alphas=alpha).fit(X_train, y_train)\n",
        "score=clf.score(X_train, y_train)\n",
        "print(\"R^2 =\", score)\n",
        "a=clf.predict(X_train)\n",
        "train_rmse= (mean_squared_error(a,y_train)) ** 0.5\n",
        "print(\"train_rmse = \", train_rmse)\n",
        "b=clf.predict(X_test)\n",
        "test_rmse= (mean_squared_error(b,y_test)) ** 0.5\n",
        "print(\"test_rmse = \", test_rmse)"
      ],
      "execution_count": 0,
      "outputs": [
        {
          "output_type": "stream",
          "text": [
            "R^2 = 0.23422232020682077\n",
            "train_rmse =  0.7711192740448021\n",
            "test_rmse =  0.7372391599844503\n"
          ],
          "name": "stdout"
        }
      ]
    },
    {
      "cell_type": "markdown",
      "metadata": {
        "id": "WXgKf3R65ajA",
        "colab_type": "text"
      },
      "source": [
        "We can see that we have got substantially worse results here as some of the coefficients values have been reduced to zero and resulting in less accuracy. "
      ]
    },
    {
      "cell_type": "markdown",
      "metadata": {
        "id": "mMub2vev5nmO",
        "colab_type": "text"
      },
      "source": [
        "With this we come to an end of the regression section and we have found regular linear regression to be the best model out of the three. This can indicate that more complex models do not necessarily mean better models and models should be selected based on our knowledge.\n",
        "\n",
        "Next we will take approach the same problem via classification in our next subsection."
      ]
    },
    {
      "cell_type": "markdown",
      "metadata": {
        "id": "2r0wrISb27o4",
        "colab_type": "text"
      },
      "source": [
        "## Modelling and testing for classification:\n",
        "We will be doing quite a few models for classification as well as a basic understanding of why the accuracy and predictions are the way they are for the various methods.\n",
        "\n",
        "### Classification with  K-Nearest Neighbours:\n",
        "\n",
        "This is a fairly simple straightforward model which classifies each outcome based on its k nearest values. We will be choosing k =80( which is the sqrt of n), however, further research on optimal values can give us better values."
      ]
    },
    {
      "cell_type": "code",
      "metadata": {
        "id": "PSzQzvOffc5_",
        "colab_type": "code",
        "outputId": "2d6a1d8e-1edb-49c5-ae4d-bfbdb7037838",
        "colab": {
          "base_uri": "https://localhost:8080/",
          "height": 34
        }
      },
      "source": [
        "from sklearn.neighbors import KNeighborsClassifier\n",
        "from sklearn import metrics\n",
        "knn=KNeighborsClassifier(n_neighbors=80)\n",
        "knn.fit(X_train,y_train)\n",
        "g=knn.predict(X_test)\n",
        "metrics.accuracy_score(y_test,g)\n",
        "metrics.f1_score(y_test,g,average=\"micro\")"
      ],
      "execution_count": 0,
      "outputs": [
        {
          "output_type": "execute_result",
          "data": {
            "text/plain": [
              "0.5445221445221445"
            ]
          },
          "metadata": {
            "tags": []
          },
          "execution_count": 46
        }
      ]
    },
    {
      "cell_type": "markdown",
      "metadata": {
        "id": "WMuTCxpfy7Q5",
        "colab_type": "text"
      },
      "source": [
        "We have formed the model and fitted it and got its F1-score which is a metric that combines precision as well as recall. And we have found it to be 0.544, which could be quite a bit better. We will be discussing possible reasons for the relatively low scores later.\n",
        "\n",
        "### Classification with Support Vector Machines:\n",
        "This is quite an elegant method which is quite effective however, performs its best in binary classification without many outliers and hence may not be able to perform its best here. We use the RBF kernal here as it a generally well suited kernal."
      ]
    },
    {
      "cell_type": "code",
      "metadata": {
        "id": "AHMb-ssTgoQz",
        "colab_type": "code",
        "outputId": "7e94bc3e-d054-4ced-9eea-5292202bd534",
        "colab": {
          "base_uri": "https://localhost:8080/",
          "height": 34
        }
      },
      "source": [
        "from sklearn import svm\n",
        "SV=svm.SVC(C=1,kernel='rbf')\n",
        "SV.fit(X_train,y_train)\n",
        "g=SV.predict(X_test)\n",
        "metrics.accuracy_score(y_test,g)\n",
        "metrics.f1_score(y_test,g,average=\"micro\")"
      ],
      "execution_count": 0,
      "outputs": [
        {
          "output_type": "execute_result",
          "data": {
            "text/plain": [
              "0.5599067599067599"
            ]
          },
          "metadata": {
            "tags": []
          },
          "execution_count": 47
        }
      ]
    },
    {
      "cell_type": "markdown",
      "metadata": {
        "id": "SOBGjXWF0Cxt",
        "colab_type": "text"
      },
      "source": [
        "The f1 score only shows marginal improvement.\n",
        "\n",
        "### Classification with Naive Bayes: \n",
        "This is an extremely simple method that uses basic bayes theorem to get its outcome. A major advantage being its simplicity and efficieny. However, the model performs poorly when there is multicollinearity and works best with categorical values.\n",
        " We do not expect very high performance metrics for this particular method."
      ]
    },
    {
      "cell_type": "code",
      "metadata": {
        "id": "2XoQLHsphZ6B",
        "colab_type": "code",
        "outputId": "9c2d9cb0-e52d-4438-f5b4-ded2ff337426",
        "colab": {
          "base_uri": "https://localhost:8080/",
          "height": 34
        }
      },
      "source": [
        "from sklearn.naive_bayes import GaussianNB\n",
        "nb=GaussianNB()\n",
        "nb.fit(X_train,y_train)\n",
        "g=nb.predict(X_test)\n",
        "metrics.accuracy_score(y_test,g)\n",
        "metrics.f1_score(y_test,g,average=\"micro\")"
      ],
      "execution_count": 0,
      "outputs": [
        {
          "output_type": "execute_result",
          "data": {
            "text/plain": [
              "0.4428904428904429"
            ]
          },
          "metadata": {
            "tags": []
          },
          "execution_count": 48
        }
      ]
    },
    {
      "cell_type": "markdown",
      "metadata": {
        "id": "uuZ3JiOj07_C",
        "colab_type": "text"
      },
      "source": [
        "As expected, the score is considerably worse than the above two.\n",
        "\n",
        "### Classification with Logistic regression:\n",
        " Here, we will be using logistic regression to predict the classes. Note that logistic regression works best with binary values as logistics regression has two outcomes. However, it can be used to predict multiclass variables by modifying the model."
      ]
    },
    {
      "cell_type": "code",
      "metadata": {
        "id": "5pbwFSOij48E",
        "colab_type": "code",
        "outputId": "89c8217e-495d-4a36-f4d8-e78127c31ac8",
        "colab": {
          "base_uri": "https://localhost:8080/",
          "height": 34
        }
      },
      "source": [
        "from sklearn.linear_model import LogisticRegression\n",
        "f=LogisticRegression(max_iter=10000)\n",
        "f.fit(X_train,y_train)\n",
        "g=f.predict(X_test)\n",
        "metrics.accuracy_score(y_test,g)\n",
        "metrics.f1_score(y_test,g,average=\"micro\")"
      ],
      "execution_count": 0,
      "outputs": [
        {
          "output_type": "execute_result",
          "data": {
            "text/plain": [
              "0.5501165501165501"
            ]
          },
          "metadata": {
            "tags": []
          },
          "execution_count": 49
        }
      ]
    },
    {
      "cell_type": "markdown",
      "metadata": {
        "id": "QULPLZkm1r2h",
        "colab_type": "text"
      },
      "source": [
        "The model performs in line with the rest of the model.\n",
        "\n",
        "### Classification with Decision tree classifier :\n",
        "Decision tree classifiers is a highly intuitive model which performs admirably with a large number of independant variables."
      ]
    },
    {
      "cell_type": "code",
      "metadata": {
        "id": "yR-WcjQpmOnB",
        "colab_type": "code",
        "outputId": "9691d9ca-ef8b-4d93-bfb8-d67d3cc3456e",
        "colab": {
          "base_uri": "https://localhost:8080/",
          "height": 51
        }
      },
      "source": [
        "from sklearn.tree import DecisionTreeClassifier\n",
        "f= DecisionTreeClassifier()\n",
        "f.fit(X_train,y_train)\n",
        "g=f.predict(X_test)\n",
        "print(metrics.accuracy_score(y_test,g))\n",
        "print(metrics.f1_score(y_test,g,average=\"micro\"))"
      ],
      "execution_count": 0,
      "outputs": [
        {
          "output_type": "stream",
          "text": [
            "0.5892773892773893\n",
            "0.5892773892773893\n"
          ],
          "name": "stdout"
        }
      ]
    },
    {
      "cell_type": "markdown",
      "metadata": {
        "id": "saJKh_5j2Iaf",
        "colab_type": "text"
      },
      "source": [
        "Decision tree classifier performs markedly better than the rest of the models.\n",
        "\n",
        "### Classification with RandomForest Classifier: \n",
        "This is an esemble model( of sorts) which essentially combines a variety of decision trees so as to form models which are less sensitive to outliers."
      ]
    },
    {
      "cell_type": "code",
      "metadata": {
        "id": "Uxu_oizSwB7w",
        "colab_type": "code",
        "outputId": "82c373d6-93cb-4d86-a783-63b06a6c937e",
        "colab": {
          "base_uri": "https://localhost:8080/",
          "height": 34
        }
      },
      "source": [
        "from sklearn.ensemble import RandomForestClassifier\n",
        "f= RandomForestClassifier()\n",
        "f.fit(X_train, y_train)\n",
        "g=f.predict(X_test)\n",
        "print(metrics.accuracy_score(y_test,g))"
      ],
      "execution_count": 0,
      "outputs": [
        {
          "output_type": "stream",
          "text": [
            "0.6634032634032634\n"
          ],
          "name": "stdout"
        }
      ]
    },
    {
      "cell_type": "markdown",
      "metadata": {
        "id": "hQfk173A2fpB",
        "colab_type": "text"
      },
      "source": [
        "This model performs the best compared to the rest of our models.\n",
        "One important point to note is that there is no best model for all situations. Just because RandomForest worked best for our problem does not mean it will work the best in every situation hence it is critical to have a basic theoritical understanding of all models we work with. These are few classification models. \n",
        "One of the reasons as to why our models perform poorly is due to the highly subjective nature of the dataset. We can also possibly improve these results by using different models or tweaking the hyperparameters of our current models.\n",
        "Next,we will classify the wine into \"bad wine\", \"good wine\" and \"excellent wine\".\n",
        "\n",
        "## New criteria for classification: \n",
        "It has been shown that accurate predictions for a scale of 1-10 is fairly difficult to predict for our given models with high amount of accuracy. One way to make it easier is by reducing the number of outcomes or classes. We ensure these classes are still meaningful to the observer. We group the wines with a quality of 1-3 in \"bad wine\", 4-7 in \"good wine\" and 8-10 in excellent wine.\n",
        "We will start of making a new column in our dataset namely \"wine_qual\" for this new data.\n",
        "\n"
      ]
    },
    {
      "cell_type": "code",
      "metadata": {
        "id": "4MziK7s1wi0T",
        "colab_type": "code",
        "outputId": "2b6efeb9-b1cd-42ed-b140-05de29bdc051",
        "colab": {
          "base_uri": "https://localhost:8080/",
          "height": 202
        }
      },
      "source": [
        "def qual(a):\n",
        "  if 1<=a[\"quality\"]<=3 :\n",
        "    return \"bad wine\"\n",
        "  elif 4<=a[\"quality\"]<=7 :\n",
        "    return \"good wine\"\n",
        "  else :\n",
        "    return \"excellent wine\"\n",
        "df[\"wine_qual\"]=df.apply(qual,axis=1)\n",
        "df.head()\n",
        "\n"
      ],
      "execution_count": 0,
      "outputs": [
        {
          "output_type": "execute_result",
          "data": {
            "text/html": [
              "<div>\n",
              "<style scoped>\n",
              "    .dataframe tbody tr th:only-of-type {\n",
              "        vertical-align: middle;\n",
              "    }\n",
              "\n",
              "    .dataframe tbody tr th {\n",
              "        vertical-align: top;\n",
              "    }\n",
              "\n",
              "    .dataframe thead th {\n",
              "        text-align: right;\n",
              "    }\n",
              "</style>\n",
              "<table border=\"1\" class=\"dataframe\">\n",
              "  <thead>\n",
              "    <tr style=\"text-align: right;\">\n",
              "      <th></th>\n",
              "      <th>fixed acidity</th>\n",
              "      <th>volatile acidity</th>\n",
              "      <th>citric acid</th>\n",
              "      <th>residual sugar</th>\n",
              "      <th>chlorides</th>\n",
              "      <th>free sulfur dioxide</th>\n",
              "      <th>total sulfur dioxide</th>\n",
              "      <th>density</th>\n",
              "      <th>pH</th>\n",
              "      <th>sulphates</th>\n",
              "      <th>alcohol</th>\n",
              "      <th>quality</th>\n",
              "      <th>wine_qual</th>\n",
              "    </tr>\n",
              "  </thead>\n",
              "  <tbody>\n",
              "    <tr>\n",
              "      <th>0</th>\n",
              "      <td>7.0</td>\n",
              "      <td>0.27</td>\n",
              "      <td>0.36</td>\n",
              "      <td>20.7</td>\n",
              "      <td>0.045</td>\n",
              "      <td>45.0</td>\n",
              "      <td>170.0</td>\n",
              "      <td>1.0010</td>\n",
              "      <td>3.00</td>\n",
              "      <td>0.45</td>\n",
              "      <td>8.8</td>\n",
              "      <td>6</td>\n",
              "      <td>good wine</td>\n",
              "    </tr>\n",
              "    <tr>\n",
              "      <th>1</th>\n",
              "      <td>6.3</td>\n",
              "      <td>0.30</td>\n",
              "      <td>0.34</td>\n",
              "      <td>1.6</td>\n",
              "      <td>0.049</td>\n",
              "      <td>14.0</td>\n",
              "      <td>132.0</td>\n",
              "      <td>0.9940</td>\n",
              "      <td>3.30</td>\n",
              "      <td>0.49</td>\n",
              "      <td>9.5</td>\n",
              "      <td>6</td>\n",
              "      <td>good wine</td>\n",
              "    </tr>\n",
              "    <tr>\n",
              "      <th>2</th>\n",
              "      <td>8.1</td>\n",
              "      <td>0.28</td>\n",
              "      <td>0.40</td>\n",
              "      <td>6.9</td>\n",
              "      <td>0.050</td>\n",
              "      <td>30.0</td>\n",
              "      <td>97.0</td>\n",
              "      <td>0.9951</td>\n",
              "      <td>3.26</td>\n",
              "      <td>0.44</td>\n",
              "      <td>10.1</td>\n",
              "      <td>6</td>\n",
              "      <td>good wine</td>\n",
              "    </tr>\n",
              "    <tr>\n",
              "      <th>3</th>\n",
              "      <td>7.2</td>\n",
              "      <td>0.23</td>\n",
              "      <td>0.32</td>\n",
              "      <td>8.5</td>\n",
              "      <td>0.058</td>\n",
              "      <td>47.0</td>\n",
              "      <td>186.0</td>\n",
              "      <td>0.9956</td>\n",
              "      <td>3.19</td>\n",
              "      <td>0.40</td>\n",
              "      <td>9.9</td>\n",
              "      <td>6</td>\n",
              "      <td>good wine</td>\n",
              "    </tr>\n",
              "    <tr>\n",
              "      <th>4</th>\n",
              "      <td>7.2</td>\n",
              "      <td>0.23</td>\n",
              "      <td>0.32</td>\n",
              "      <td>8.5</td>\n",
              "      <td>0.058</td>\n",
              "      <td>47.0</td>\n",
              "      <td>186.0</td>\n",
              "      <td>0.9956</td>\n",
              "      <td>3.19</td>\n",
              "      <td>0.40</td>\n",
              "      <td>9.9</td>\n",
              "      <td>6</td>\n",
              "      <td>good wine</td>\n",
              "    </tr>\n",
              "  </tbody>\n",
              "</table>\n",
              "</div>"
            ],
            "text/plain": [
              "   fixed acidity  volatile acidity  citric acid  ...  alcohol  quality  wine_qual\n",
              "0            7.0              0.27         0.36  ...      8.8        6  good wine\n",
              "1            6.3              0.30         0.34  ...      9.5        6  good wine\n",
              "2            8.1              0.28         0.40  ...     10.1        6  good wine\n",
              "3            7.2              0.23         0.32  ...      9.9        6  good wine\n",
              "4            7.2              0.23         0.32  ...      9.9        6  good wine\n",
              "\n",
              "[5 rows x 13 columns]"
            ]
          },
          "metadata": {
            "tags": []
          },
          "execution_count": 52
        }
      ]
    },
    {
      "cell_type": "markdown",
      "metadata": {
        "id": "ArNKR9do_o60",
        "colab_type": "text"
      },
      "source": [
        "Now that we have got our desired dataframe we can now classify them using some of the algorithms used above.\n",
        "\n",
        "# Classification with reduced dataset: \n",
        "We will be using RandomForest and SVM for our classification this time."
      ]
    },
    {
      "cell_type": "code",
      "metadata": {
        "id": "aP2ECRcDxfJV",
        "colab_type": "code",
        "outputId": "3f5a653b-c295-4762-fc8e-041f1f7c2ba8",
        "colab": {
          "base_uri": "https://localhost:8080/",
          "height": 34
        }
      },
      "source": [
        "y=df[\"wine_qual\"]\n",
        "X_train, X_test, y_train, y_test = train_test_split(normalized_x, y, test_size=0.33, random_state=42)\n",
        "\n",
        "from sklearn.ensemble import RandomForestClassifier\n",
        "f= RandomForestClassifier()\n",
        "f.fit(X_train, y_train)\n",
        "g=f.predict(X_test)\n",
        "print(\"accuracy for RandomForestClassifier:\", metrics.accuracy_score(y_test,g))"
      ],
      "execution_count": 0,
      "outputs": [
        {
          "output_type": "stream",
          "text": [
            "accuracy for RandomForestClassifier: 0.9771561771561772\n"
          ],
          "name": "stdout"
        }
      ]
    },
    {
      "cell_type": "code",
      "metadata": {
        "id": "OpHAOIJLATfb",
        "colab_type": "code",
        "outputId": "b4454b61-5319-43d5-ffc9-71a10af3d1d7",
        "colab": {
          "base_uri": "https://localhost:8080/",
          "height": 34
        }
      },
      "source": [
        "from sklearn import svm\n",
        "SV=svm.SVC(C=1,kernel='rbf')\n",
        "SV.fit(X_train,y_train)\n",
        "g=SV.predict(X_test)\n",
        "metrics.accuracy_score(y_test,g)\n",
        "print(\"accuracy for Support Vector Machines: \", metrics.f1_score(y_test,g,average=\"micro\"))"
      ],
      "execution_count": 0,
      "outputs": [
        {
          "output_type": "stream",
          "text": [
            "accuracy for Support Vector Machines:  0.9701631701631701\n"
          ],
          "name": "stdout"
        }
      ]
    },
    {
      "cell_type": "markdown",
      "metadata": {
        "id": "OZ9-KHkgBIk5",
        "colab_type": "text"
      },
      "source": [
        "We can see a massive increase in accuracy when we reduced the number of classes while still managing to retain meaning of the output. With this we have come to an end to this project."
      ]
    }
  ]
}